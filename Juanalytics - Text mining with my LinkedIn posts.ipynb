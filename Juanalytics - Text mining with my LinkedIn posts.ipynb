{
 "cells": [
  {
   "cell_type": "markdown",
   "metadata": {},
   "source": [
    "# Juanalytics: Analyzing my own LinkedIn Posts\n",
    "<p>By <a href=\"https://www.linkedin.com/in/jmperafan/\">Juan Manuel Perafan</a></p>\n",
    "<p>Back in October of 2018, I started posting data science and business intelligence tips on LinkedIn using the hashtag <a href=\"https://www.linkedin.com/feed/hashtag/juanalytics/\">#juanalytics</a>. In a world saturated by content for beginners, my idea was to centralize content for mediors and advanced users of data tools like R, Python, SQL, Tableau, Alteryx, Excel. </p>\n",
    "\n",
    "<p><img src=\"https://miro.medium.com/max/1400/0*8gb5Ir-2ROQne0WN\" alt=\"\"></p>"
   ]
  },
  {
   "cell_type": "markdown",
   "metadata": {},
   "source": [
    "## 1. Import and explore data"
   ]
  },
  {
   "cell_type": "code",
   "execution_count": 15,
   "metadata": {},
   "outputs": [
    {
     "name": "stderr",
     "output_type": "stream",
     "text": [
      "Parsed with column specification:\n",
      "cols(\n",
      "  Id = col_integer(),\n",
      "  Months = col_integer(),\n",
      "  Likes = col_integer(),\n",
      "  Comments = col_integer(),\n",
      "  Post = col_character(),\n",
      "  Url = col_character(),\n",
      "  Media = col_character(),\n",
      "  Original = col_logical(),\n",
      "  Type = col_character(),\n",
      "  Mention = col_character(),\n",
      "  Effort = col_logical()\n",
      ")\n"
     ]
    },
    {
     "name": "stdout",
     "output_type": "stream",
     "text": [
      "Observations: 152\n",
      "Variables: 12\n",
      "$ Id       <int> 1, 2, 3, 4, 5, 6, 7, 8, 9, 10, 11, 12, 13, 14, 15, 16, 17,...\n",
      "$ Months   <int> 10, 9, 9, 9, 9, 9, 9, 9, 9, 9, 9, 9, 9, 9, 9, 9, 9, 9, 8, ...\n",
      "$ Likes    <int> 5, 12, 18, 17, 14, 4, 12, 45, 20, 57, 13, 88, 1, 36, 10, 2...\n",
      "$ Comments <int> 1, 3, 0, 0, 1, 0, 0, 5, 4, 17, 6, 9, 0, 4, 0, 3, 5, 6, 1, ...\n",
      "$ Post     <chr> \"Which products are often purchased together? That's a que...\n",
      "$ Url      <chr> \"https://www.linkedin.com/posts/jmperafan_tableau-marketba...\n",
      "$ Media    <chr> \"Image\", \"Image\", \"Image\", \"Image\", \"Image\", \"Image\", \"Ima...\n",
      "$ Original <lgl> TRUE, TRUE, FALSE, TRUE, TRUE, TRUE, TRUE, TRUE, TRUE, TRU...\n",
      "$ Type     <fct> Display, Accomplishment, Joke, Display, Display, Display, ...\n",
      "$ Mention  <chr> NA, NA, \"Marketoonist\", NA, NA, NA, NA, NA, NA, NA, NA, \"S...\n",
      "$ Effort   <lgl> TRUE, TRUE, TRUE, TRUE, TRUE, TRUE, TRUE, TRUE, TRUE, TRUE...\n",
      "$ Links    <int> 1, 1, 0, 1, 1, 1, 1, 1, 1, 1, 2, 1, 0, 1, 1, 2, 2, 1, 1, 2...\n"
     ]
    }
   ],
   "source": [
    "# install.packages(\"tidyverse\", repos = \"https://lib.ugent.be/CRAN/\")\n",
    "# install.packages(\"tidytext\", repos = \"https://lib.ugent.be/CRAN/\")\n",
    "\n",
    "# Load datasets\n",
    "library(\"tidyverse\")\n",
    "library(\"tidytext\")\n",
    "\n",
    "# Load data\n",
    "posts_raw <- read_csv('datasets/juanalytics_posts.csv')\n",
    "\n",
    "# Take a look at some of the observations\n",
    "glimpse(posts)"
   ]
  },
  {
   "cell_type": "markdown",
   "metadata": {},
   "source": [
    "## 2. Clean the data"
   ]
  },
  {
   "cell_type": "code",
   "execution_count": 7,
   "metadata": {},
   "outputs": [
    {
     "name": "stdout",
     "output_type": "stream",
     "text": [
      "Observations: 152\n",
      "Variables: 12\n",
      "$ Id       <int> 1, 2, 3, 4, 5, 6, 7, 8, 9, 10, 11, 12, 13, 14, 15, 16, 17,...\n",
      "$ Months   <int> 10, 9, 9, 9, 9, 9, 9, 9, 9, 9, 9, 9, 9, 9, 9, 9, 9, 9, 8, ...\n",
      "$ Likes    <int> 5, 12, 18, 17, 14, 4, 12, 45, 20, 57, 13, 88, 1, 36, 10, 2...\n",
      "$ Comments <int> 1, 3, 0, 0, 1, 0, 0, 5, 4, 17, 6, 9, 0, 4, 0, 3, 5, 6, 1, ...\n",
      "$ Post     <chr> \"Which products are often purchased together? That's a que...\n",
      "$ Url      <chr> \"https://www.linkedin.com/posts/jmperafan_tableau-marketba...\n",
      "$ Media    <chr> \"Image\", \"Image\", \"Image\", \"Image\", \"Image\", \"Image\", \"Ima...\n",
      "$ Original <lgl> TRUE, TRUE, FALSE, TRUE, TRUE, TRUE, TRUE, TRUE, TRUE, TRU...\n",
      "$ Type     <fct> Display, Accomplishment, Joke, Display, Display, Display, ...\n",
      "$ Mention  <chr> NA, NA, \"Marketoonist\", NA, NA, NA, NA, NA, NA, NA, NA, \"S...\n",
      "$ Effort   <lgl> TRUE, TRUE, TRUE, TRUE, TRUE, TRUE, TRUE, TRUE, TRUE, TRUE...\n",
      "$ Links    <int> 1, 1, 0, 1, 1, 1, 1, 1, 1, 1, 2, 1, 0, 1, 1, 2, 2, 1, 1, 2...\n"
     ]
    }
   ],
   "source": [
    "# To clean and enrich the data, we need to create multiple columns.\n",
    "posts <- posts_raw %>%\n",
    "  mutate(\n",
    "    # 1. Transform Effort into a boolean.\n",
    "    Effort = ifelse(is.na(Effort), TRUE, FALSE)\n",
    "\n",
    "    # 2. Transform Type into a factor\n",
    "    , Type = as.factor(Type)\n",
    "    \n",
    "    # 3. Count the amount of links per post\n",
    "    , Links = str_count(Post, pattern = \"http\")\n",
    ")\n",
    "\n",
    "# This is how the dataset looks after modifying these 3 columns\n",
    "glimpse(posts)"
   ]
  },
  {
   "cell_type": "markdown",
   "metadata": {},
   "source": [
    "## 3. Create a custom Stop Words dictionary"
   ]
  },
  {
   "cell_type": "code",
   "execution_count": 9,
   "metadata": {},
   "outputs": [],
   "source": [
    "# Create a custom dictionary of stop_words.\n",
    "custom_stop_words <- stop_words %>%\n",
    "  \n",
    "  # In the original stop_words dictionary, R is included as a stopword\n",
    "  filter(!str_detect(word, '^r*$')) %>% \n",
    "  \n",
    "  # Adding a dataframe with a custom lexicon of stop_words\n",
    "  bind_rows(\n",
    "    tibble(word = c(\"hashtag\", \"juanalytics\", \"https\", \"lnkd.in\"),\n",
    "               lexicon = \"custom\")\n",
    ")"
   ]
  },
  {
   "cell_type": "markdown",
   "metadata": {},
   "source": [
    "## 4. Tokenizing the text"
   ]
  },
  {
   "cell_type": "code",
   "execution_count": 11,
   "metadata": {},
   "outputs": [
    {
     "name": "stderr",
     "output_type": "stream",
     "text": [
      "Joining, by = \"word\"\n"
     ]
    },
    {
     "data": {
      "text/html": [
       "<table>\n",
       "<thead><tr><th scope=col>word</th><th scope=col>n</th></tr></thead>\n",
       "<tbody>\n",
       "\t<tr><td>tableau</td><td>199    </td></tr>\n",
       "\t<tr><td>data   </td><td>124    </td></tr>\n",
       "\t<tr><td>check  </td><td> 49    </td></tr>\n",
       "\t<tr><td>link   </td><td> 44    </td></tr>\n",
       "\t<tr><td>r      </td><td> 43    </td></tr>\n",
       "\t<tr><td>time   </td><td> 32    </td></tr>\n",
       "</tbody>\n",
       "</table>\n"
      ],
      "text/latex": [
       "\\begin{tabular}{r|ll}\n",
       " word & n\\\\\n",
       "\\hline\n",
       "\t tableau & 199    \\\\\n",
       "\t data    & 124    \\\\\n",
       "\t check   &  49    \\\\\n",
       "\t link    &  44    \\\\\n",
       "\t r       &  43    \\\\\n",
       "\t time    &  32    \\\\\n",
       "\\end{tabular}\n"
      ],
      "text/markdown": [
       "\n",
       "word | n | \n",
       "|---|---|---|---|---|---|\n",
       "| tableau | 199     | \n",
       "| data    | 124     | \n",
       "| check   |  49     | \n",
       "| link    |  44     | \n",
       "| r       |  43     | \n",
       "| time    |  32     | \n",
       "\n",
       "\n"
      ],
      "text/plain": [
       "  word    n  \n",
       "1 tableau 199\n",
       "2 data    124\n",
       "3 check    49\n",
       "4 link     44\n",
       "5 r        43\n",
       "6 time     32"
      ]
     },
     "metadata": {},
     "output_type": "display_data"
    }
   ],
   "source": [
    "bag_of_words <- posts %>%\n",
    "\n",
    "  # This is the function to tokenize my posts\n",
    "  unnest_tokens(word, Post) %>%\n",
    "\n",
    "  # This sentence removes the stop words\n",
    "  anti_join(custom_stop_words) %>%\n",
    "\n",
    "  # Some lines are just numbers... They don't add much value\n",
    "  slice(which(!str_detect(word, '^[0-9]*$'))) %>%\n",
    "\n",
    "  # Now I take the count to see which words appear more often\n",
    "  count(word, sort = TRUE) %>%\n",
    "\n",
    "  # Most of the words are said once, so I will limit myself to words mention more than 15 times\n",
    "  filter(n > 15) %>%\n",
    " \n",
    "  # This step is needed to order words from the most frequent in descent order\n",
    "  mutate(word = reorder(word, n)) \n",
    "\n",
    "# This is how the dataset looks like now\n",
    "# These here are my top 5 words\n",
    "head(bag_of_words)"
   ]
  },
  {
   "cell_type": "markdown",
   "metadata": {},
   "source": [
    "## 5. Most used words"
   ]
  },
  {
   "cell_type": "code",
   "execution_count": 12,
   "metadata": {},
   "outputs": [
    {
     "name": "stderr",
     "output_type": "stream",
     "text": [
      "Warning message in grid.Call(C_textBounds, as.graphicsAnnot(x$label), x$x, x$y, :\n",
      "\"font family not found in Windows font database\""
     ]
    },
    {
     "data": {},
     "metadata": {},
     "output_type": "display_data"
    },
    {
     "data": {
      "image/png": "[encoded data removed]",
      "text/plain": [
       "plot without title"
      ]
     },
     "metadata": {},
     "output_type": "display_data",
     "source": "R display func"
    }
   ],
   "source": [
    "bag_of_words %>%\n",
    "  ggplot(aes(word, n)) +\n",
    "  geom_col(colour = \"white\", fill = \"#1380A1\") +\n",
    "  geom_label(aes(x = word, y = n, label = round(n, 0)),\n",
    "             hjust = 1, \n",
    "             vjust = 0.5, \n",
    "             colour = \"white\", \n",
    "             fill = NA, \n",
    "             label.size = NA, \n",
    "             family=\"Helvetica\", \n",
    "             size = 6) +\n",
    "  coord_flip() +\n",
    "  labs(\n",
    "    title=\"Most used words in my Juanalytics posts\"\n",
    "    , subtitle = \"After removing stop words, which words appear the most in my posts\"\n",
    "    )"
   ]
  },
  {
   "cell_type": "markdown",
   "metadata": {},
   "source": [
    "## 6. Which tools I mention the most?"
   ]
  },
  {
   "cell_type": "code",
   "execution_count": 13,
   "metadata": {},
   "outputs": [
    {
     "data": {},
     "metadata": {},
     "output_type": "display_data"
    },
    {
     "data": {
      "image/png": "[encoded data removed]",
      "text/plain": [
       "plot without title"
      ]
     },
     "metadata": {},
     "output_type": "display_data",
     "source": "R display func"
    }
   ],
   "source": [
    "bag_of_words %>%\n",
    "  filter(word %in% c('tableau', 'r', 'python', 'sql', 'excel', 'alteryx')) %>% \n",
    "  ggplot(aes(x = word, y = n)) +\n",
    "  geom_bar(stat=\"identity\"\n",
    "           , position=\"identity\"\n",
    "           , fill=\"#1380A1\") +\n",
    "  geom_hline(yintercept = 0, size = 1, colour=\"#333333\") +\n",
    "  labs(title=\"Which tools I mention the most?\",\n",
    "       subtitle = \"I should probably diversify more\")"
   ]
  },
  {
   "cell_type": "code",
   "execution_count": null,
   "metadata": {},
   "outputs": [],
   "source": []
  }
 ],
 "metadata": {
  "kernelspec": {
   "display_name": "R",
   "language": "R",
   "name": "ir"
  },
  "language_info": {
   "codemirror_mode": "r",
   "file_extension": ".r",
   "mimetype": "text/x-r-source",
   "name": "R",
   "pygments_lexer": "r",
   "version": "3.5.1"
  }
 },
 "nbformat": 4,
 "nbformat_minor": 4
}
